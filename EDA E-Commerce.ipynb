{
 "cells": [
  {
   "cell_type": "markdown",
   "metadata": {},
   "source": [
    "# Exploratory Data Analysis di E-Commerce"
   ]
  },
  {
   "cell_type": "markdown",
   "metadata": {},
   "source": [
    "## Problem"
   ]
  },
  {
   "cell_type": "markdown",
   "metadata": {},
   "source": [
    "- Perusahaan ingin meningkatkan penjualan"
   ]
  },
  {
   "cell_type": "markdown",
   "metadata": {},
   "source": [
    "## Goals"
   ]
  },
  {
   "cell_type": "markdown",
   "metadata": {},
   "source": [
    "- Mencari faktor dan strategi yang dapat mempengaruhi penjualan"
   ]
  },
  {
   "cell_type": "markdown",
   "metadata": {},
   "source": [
    "### Import Package"
   ]
  },
  {
   "cell_type": "code",
   "execution_count": 1,
   "metadata": {},
   "outputs": [],
   "source": [
    "import pandas as pd\n",
    "import numpy as np\n",
    "import matplotlib.pyplot as plt\n",
    "import seaborn as sns\n",
    "\n",
    "%matplotlib inline"
   ]
  },
  {
   "cell_type": "markdown",
   "metadata": {},
   "source": [
    "### Read Data"
   ]
  },
  {
   "cell_type": "code",
   "execution_count": 2,
   "metadata": {},
   "outputs": [],
   "source": [
    "data = pd.read_csv(\"ecommerce.csv\")"
   ]
  },
  {
   "cell_type": "code",
   "execution_count": 3,
   "metadata": {},
   "outputs": [
    {
     "data": {
      "text/html": [
       "<div>\n",
       "<style scoped>\n",
       "    .dataframe tbody tr th:only-of-type {\n",
       "        vertical-align: middle;\n",
       "    }\n",
       "\n",
       "    .dataframe tbody tr th {\n",
       "        vertical-align: top;\n",
       "    }\n",
       "\n",
       "    .dataframe thead th {\n",
       "        text-align: right;\n",
       "    }\n",
       "</style>\n",
       "<table border=\"1\" class=\"dataframe\">\n",
       "  <thead>\n",
       "    <tr style=\"text-align: right;\">\n",
       "      <th></th>\n",
       "      <th>Unnamed: 0</th>\n",
       "      <th>category</th>\n",
       "      <th>product</th>\n",
       "      <th>Original_price</th>\n",
       "      <th>price</th>\n",
       "      <th>perc_of_unit_sold</th>\n",
       "      <th>rating</th>\n",
       "      <th>shpping_rate</th>\n",
       "      <th>gender</th>\n",
       "    </tr>\n",
       "  </thead>\n",
       "  <tbody>\n",
       "    <tr>\n",
       "      <th>0</th>\n",
       "      <td>0</td>\n",
       "      <td>Athletic Shoes</td>\n",
       "      <td>Nike SB Check Solar Cnvs Skateboarding Shoes f...</td>\n",
       "      <td>299.0</td>\n",
       "      <td>211.48</td>\n",
       "      <td>94.0</td>\n",
       "      <td>100.0</td>\n",
       "      <td>FREE Shipping</td>\n",
       "      <td>men</td>\n",
       "    </tr>\n",
       "    <tr>\n",
       "      <th>1</th>\n",
       "      <td>1</td>\n",
       "      <td>Athletic Shoes</td>\n",
       "      <td>Nike Md Runner 2 Two-Tone Textile-Mesh Suede-A...</td>\n",
       "      <td>349.0</td>\n",
       "      <td>289.99</td>\n",
       "      <td>80.0</td>\n",
       "      <td>88.0</td>\n",
       "      <td>FREE Shipping</td>\n",
       "      <td>men</td>\n",
       "    </tr>\n",
       "    <tr>\n",
       "      <th>2</th>\n",
       "      <td>2</td>\n",
       "      <td>Athletic Shoes</td>\n",
       "      <td>Nike air Heights Sneaker for Women , Size 38 E...</td>\n",
       "      <td>419.0</td>\n",
       "      <td>337.48</td>\n",
       "      <td>77.0</td>\n",
       "      <td>NaN</td>\n",
       "      <td>FREE Shipping</td>\n",
       "      <td>women</td>\n",
       "    </tr>\n",
       "    <tr>\n",
       "      <th>3</th>\n",
       "      <td>3</td>\n",
       "      <td>Athletic Shoes</td>\n",
       "      <td>Nike Fitness Shoes For Men , 43 EU , Black</td>\n",
       "      <td>319.0</td>\n",
       "      <td>211.48</td>\n",
       "      <td>76.0</td>\n",
       "      <td>80.0</td>\n",
       "      <td>FREE Shipping</td>\n",
       "      <td>men</td>\n",
       "    </tr>\n",
       "    <tr>\n",
       "      <th>4</th>\n",
       "      <td>4</td>\n",
       "      <td>Athletic Shoes</td>\n",
       "      <td>adidas ASWEERUN Sneaker for Mens, Grey - Size ...</td>\n",
       "      <td>259.0</td>\n",
       "      <td>194.99</td>\n",
       "      <td>94.0</td>\n",
       "      <td>NaN</td>\n",
       "      <td>Eligible for FREE Shipping</td>\n",
       "      <td>men</td>\n",
       "    </tr>\n",
       "    <tr>\n",
       "      <th>5</th>\n",
       "      <td>5</td>\n",
       "      <td>Athletic Shoes</td>\n",
       "      <td>Nike Sport Sneaker Shoes for Men , 44 EU , White</td>\n",
       "      <td>319.0</td>\n",
       "      <td>234.99</td>\n",
       "      <td>30.0</td>\n",
       "      <td>NaN</td>\n",
       "      <td>FREE Shipping</td>\n",
       "      <td>men</td>\n",
       "    </tr>\n",
       "    <tr>\n",
       "      <th>6</th>\n",
       "      <td>6</td>\n",
       "      <td>Athletic Shoes</td>\n",
       "      <td>Adidas Duramo 9 Running Shoes For Men - Core B...</td>\n",
       "      <td>319.0</td>\n",
       "      <td>233.98</td>\n",
       "      <td>68.0</td>\n",
       "      <td>100.0</td>\n",
       "      <td>FREE Shipping</td>\n",
       "      <td>men</td>\n",
       "    </tr>\n",
       "    <tr>\n",
       "      <th>7</th>\n",
       "      <td>7</td>\n",
       "      <td>Athletic Shoes</td>\n",
       "      <td>Nike Fitness Shoes For Men , 44.5 EU , Gray</td>\n",
       "      <td>389.0</td>\n",
       "      <td>280.98</td>\n",
       "      <td>71.0</td>\n",
       "      <td>NaN</td>\n",
       "      <td>FREE Shipping</td>\n",
       "      <td>men</td>\n",
       "    </tr>\n",
       "    <tr>\n",
       "      <th>8</th>\n",
       "      <td>8</td>\n",
       "      <td>Athletic Shoes</td>\n",
       "      <td>Nike Air Zoom Pegasus 36 Running Sneakers for ...</td>\n",
       "      <td>609.0</td>\n",
       "      <td>470.99</td>\n",
       "      <td>60.0</td>\n",
       "      <td>NaN</td>\n",
       "      <td>FREE Shipping</td>\n",
       "      <td>men</td>\n",
       "    </tr>\n",
       "    <tr>\n",
       "      <th>9</th>\n",
       "      <td>9</td>\n",
       "      <td>Athletic Shoes</td>\n",
       "      <td>Nike Court Lite 2 Sneaker for Men , Size 42 EU...</td>\n",
       "      <td>339.0</td>\n",
       "      <td>236.99</td>\n",
       "      <td>33.0</td>\n",
       "      <td>NaN</td>\n",
       "      <td>FREE Shipping</td>\n",
       "      <td>men</td>\n",
       "    </tr>\n",
       "  </tbody>\n",
       "</table>\n",
       "</div>"
      ],
      "text/plain": [
       "   Unnamed: 0        category  \\\n",
       "0           0  Athletic Shoes   \n",
       "1           1  Athletic Shoes   \n",
       "2           2  Athletic Shoes   \n",
       "3           3  Athletic Shoes   \n",
       "4           4  Athletic Shoes   \n",
       "5           5  Athletic Shoes   \n",
       "6           6  Athletic Shoes   \n",
       "7           7  Athletic Shoes   \n",
       "8           8  Athletic Shoes   \n",
       "9           9  Athletic Shoes   \n",
       "\n",
       "                                             product  Original_price   price  \\\n",
       "0  Nike SB Check Solar Cnvs Skateboarding Shoes f...           299.0  211.48   \n",
       "1  Nike Md Runner 2 Two-Tone Textile-Mesh Suede-A...           349.0  289.99   \n",
       "2  Nike air Heights Sneaker for Women , Size 38 E...           419.0  337.48   \n",
       "3         Nike Fitness Shoes For Men , 43 EU , Black           319.0  211.48   \n",
       "4  adidas ASWEERUN Sneaker for Mens, Grey - Size ...           259.0  194.99   \n",
       "5   Nike Sport Sneaker Shoes for Men , 44 EU , White           319.0  234.99   \n",
       "6  Adidas Duramo 9 Running Shoes For Men - Core B...           319.0  233.98   \n",
       "7        Nike Fitness Shoes For Men , 44.5 EU , Gray           389.0  280.98   \n",
       "8  Nike Air Zoom Pegasus 36 Running Sneakers for ...           609.0  470.99   \n",
       "9  Nike Court Lite 2 Sneaker for Men , Size 42 EU...           339.0  236.99   \n",
       "\n",
       "   perc_of_unit_sold  rating                shpping_rate gender  \n",
       "0               94.0   100.0               FREE Shipping    men  \n",
       "1               80.0    88.0               FREE Shipping    men  \n",
       "2               77.0     NaN               FREE Shipping  women  \n",
       "3               76.0    80.0               FREE Shipping    men  \n",
       "4               94.0     NaN  Eligible for FREE Shipping    men  \n",
       "5               30.0     NaN               FREE Shipping    men  \n",
       "6               68.0   100.0               FREE Shipping    men  \n",
       "7               71.0     NaN               FREE Shipping    men  \n",
       "8               60.0     NaN               FREE Shipping    men  \n",
       "9               33.0     NaN               FREE Shipping    men  "
      ]
     },
     "execution_count": 3,
     "metadata": {},
     "output_type": "execute_result"
    }
   ],
   "source": [
    "data.head(10)"
   ]
  },
  {
   "cell_type": "markdown",
   "metadata": {},
   "source": [
    "##### Deskripsi Kolom"
   ]
  },
  {
   "cell_type": "raw",
   "metadata": {},
   "source": [
    "- category     = Kategori barang\n",
    "- produk       = Jenis barang\n",
    "- Original_price = Harga barang sebelum diskon\n",
    "- price        = Harga jual barang setelah diskon\n",
    "- perc_of_unit_sold = Presentase barang terjual\n",
    "- rating       = Penilaian barang\n",
    "- shpping_rate = Pengiriman barang\n",
    "- gender       = jenis kelamin"
   ]
  },
  {
   "cell_type": "markdown",
   "metadata": {},
   "source": [
    "### Describe Data"
   ]
  },
  {
   "cell_type": "code",
   "execution_count": 4,
   "metadata": {},
   "outputs": [
    {
     "data": {
      "text/plain": [
       "(609, 9)"
      ]
     },
     "execution_count": 4,
     "metadata": {},
     "output_type": "execute_result"
    }
   ],
   "source": [
    "data.shape"
   ]
  },
  {
   "cell_type": "markdown",
   "metadata": {},
   "source": [
    "- Ada 609 baris dan 9 kolom"
   ]
  },
  {
   "cell_type": "code",
   "execution_count": 5,
   "metadata": {},
   "outputs": [
    {
     "data": {
      "text/plain": [
       "Index(['Unnamed: 0', 'category', 'product', 'Original_price', 'price',\n",
       "       'perc_of_unit_sold', 'rating', 'shpping_rate', 'gender'],\n",
       "      dtype='object')"
      ]
     },
     "execution_count": 5,
     "metadata": {},
     "output_type": "execute_result"
    }
   ],
   "source": [
    "data.columns"
   ]
  },
  {
   "cell_type": "code",
   "execution_count": 6,
   "metadata": {},
   "outputs": [],
   "source": [
    "dataDesc = []\n",
    "\n",
    "for i in data.columns:\n",
    "    dataDesc.append([\n",
    "        i,\n",
    "        data[i].dtypes,\n",
    "        data[i].isnull().sum(),\n",
    "        round((((data[i].isnull().sum()) / (len(data))) *100), 2),\n",
    "        data[i].nunique(),\n",
    "        data[i].drop_duplicates().sample(2).values\n",
    "    ])"
   ]
  },
  {
   "cell_type": "code",
   "execution_count": 7,
   "metadata": {},
   "outputs": [
    {
     "data": {
      "text/html": [
       "<div>\n",
       "<style scoped>\n",
       "    .dataframe tbody tr th:only-of-type {\n",
       "        vertical-align: middle;\n",
       "    }\n",
       "\n",
       "    .dataframe tbody tr th {\n",
       "        vertical-align: top;\n",
       "    }\n",
       "\n",
       "    .dataframe thead th {\n",
       "        text-align: right;\n",
       "    }\n",
       "</style>\n",
       "<table border=\"1\" class=\"dataframe\">\n",
       "  <thead>\n",
       "    <tr style=\"text-align: right;\">\n",
       "      <th></th>\n",
       "      <th>Data Feature</th>\n",
       "      <th>Data types</th>\n",
       "      <th>Null</th>\n",
       "      <th>Null Percentage</th>\n",
       "      <th>Unique</th>\n",
       "      <th>Nunique</th>\n",
       "    </tr>\n",
       "  </thead>\n",
       "  <tbody>\n",
       "    <tr>\n",
       "      <th>0</th>\n",
       "      <td>Unnamed: 0</td>\n",
       "      <td>int64</td>\n",
       "      <td>0</td>\n",
       "      <td>0.00</td>\n",
       "      <td>180</td>\n",
       "      <td>[43, 132]</td>\n",
       "    </tr>\n",
       "    <tr>\n",
       "      <th>1</th>\n",
       "      <td>category</td>\n",
       "      <td>object</td>\n",
       "      <td>0</td>\n",
       "      <td>0.00</td>\n",
       "      <td>7</td>\n",
       "      <td>[Casual &amp; Dress Shoes, Perfumes &amp; Fragrances]</td>\n",
       "    </tr>\n",
       "    <tr>\n",
       "      <th>2</th>\n",
       "      <td>product</td>\n",
       "      <td>object</td>\n",
       "      <td>0</td>\n",
       "      <td>0.00</td>\n",
       "      <td>602</td>\n",
       "      <td>[August Steiner Men's Black Dial Metal Band Wa...</td>\n",
       "    </tr>\n",
       "    <tr>\n",
       "      <th>3</th>\n",
       "      <td>Original_price</td>\n",
       "      <td>float64</td>\n",
       "      <td>26</td>\n",
       "      <td>4.27</td>\n",
       "      <td>322</td>\n",
       "      <td>[329.0, 319.0]</td>\n",
       "    </tr>\n",
       "    <tr>\n",
       "      <th>4</th>\n",
       "      <td>price</td>\n",
       "      <td>float64</td>\n",
       "      <td>0</td>\n",
       "      <td>0.00</td>\n",
       "      <td>457</td>\n",
       "      <td>[285.48, 346.98]</td>\n",
       "    </tr>\n",
       "    <tr>\n",
       "      <th>5</th>\n",
       "      <td>perc_of_unit_sold</td>\n",
       "      <td>float64</td>\n",
       "      <td>87</td>\n",
       "      <td>14.29</td>\n",
       "      <td>92</td>\n",
       "      <td>[82.0, 60.0]</td>\n",
       "    </tr>\n",
       "    <tr>\n",
       "      <th>6</th>\n",
       "      <td>rating</td>\n",
       "      <td>float64</td>\n",
       "      <td>182</td>\n",
       "      <td>29.89</td>\n",
       "      <td>24</td>\n",
       "      <td>[94.0, 90.0]</td>\n",
       "    </tr>\n",
       "    <tr>\n",
       "      <th>7</th>\n",
       "      <td>shpping_rate</td>\n",
       "      <td>object</td>\n",
       "      <td>42</td>\n",
       "      <td>6.90</td>\n",
       "      <td>2</td>\n",
       "      <td>[Eligible for FREE Shipping, FREE Shipping]</td>\n",
       "    </tr>\n",
       "    <tr>\n",
       "      <th>8</th>\n",
       "      <td>gender</td>\n",
       "      <td>object</td>\n",
       "      <td>28</td>\n",
       "      <td>4.60</td>\n",
       "      <td>3</td>\n",
       "      <td>[nan, women]</td>\n",
       "    </tr>\n",
       "  </tbody>\n",
       "</table>\n",
       "</div>"
      ],
      "text/plain": [
       "        Data Feature Data types  Null  Null Percentage  Unique  \\\n",
       "0         Unnamed: 0      int64     0             0.00     180   \n",
       "1           category     object     0             0.00       7   \n",
       "2            product     object     0             0.00     602   \n",
       "3     Original_price    float64    26             4.27     322   \n",
       "4              price    float64     0             0.00     457   \n",
       "5  perc_of_unit_sold    float64    87            14.29      92   \n",
       "6             rating    float64   182            29.89      24   \n",
       "7       shpping_rate     object    42             6.90       2   \n",
       "8             gender     object    28             4.60       3   \n",
       "\n",
       "                                             Nunique  \n",
       "0                                          [43, 132]  \n",
       "1      [Casual & Dress Shoes, Perfumes & Fragrances]  \n",
       "2  [August Steiner Men's Black Dial Metal Band Wa...  \n",
       "3                                     [329.0, 319.0]  \n",
       "4                                   [285.48, 346.98]  \n",
       "5                                       [82.0, 60.0]  \n",
       "6                                       [94.0, 90.0]  \n",
       "7        [Eligible for FREE Shipping, FREE Shipping]  \n",
       "8                                       [nan, women]  "
      ]
     },
     "execution_count": 7,
     "metadata": {},
     "output_type": "execute_result"
    }
   ],
   "source": [
    "pd.DataFrame(dataDesc, columns = [\n",
    "    \"Data Feature\",\n",
    "    \"Data types\",\n",
    "    \"Null\",\n",
    "    \"Null Percentage\",\n",
    "    \"Unique\",\n",
    "    \"Nunique\"\n",
    "])"
   ]
  },
  {
   "cell_type": "markdown",
   "metadata": {},
   "source": [
    "- Data Types sudah sesuai semua\n",
    "- Ada missing Value di 5 variable :\n",
    "    - Original_price\n",
    "    - perc_of_unit_sold\n",
    "    - rating\n",
    "    - shpping_rate\n",
    "    - gender"
   ]
  },
  {
   "cell_type": "markdown",
   "metadata": {},
   "source": [
    "### Handling Missing Value"
   ]
  },
  {
   "cell_type": "markdown",
   "metadata": {},
   "source": [
    "#### 1. Numerik"
   ]
  },
  {
   "cell_type": "markdown",
   "metadata": {},
   "source": [
    "#### Melihat Data Outliers"
   ]
  },
  {
   "cell_type": "code",
   "execution_count": 8,
   "metadata": {},
   "outputs": [
    {
     "data": {
      "image/png": "[encoded data removed]",
      "text/plain": [
       "<Figure size 792x468 with 3 Axes>"
      ]
     },
     "metadata": {
      "needs_background": "light"
     },
     "output_type": "display_data"
    }
   ],
   "source": [
    "fig, axes = plt.subplots(1,3, figsize = (11,6.5))\n",
    "fig.tight_layout(pad = 2.8)\n",
    "sns.boxplot(y = data[\"Original_price\"], ax = axes[0])\n",
    "sns.boxplot(y = data[\"perc_of_unit_sold\"], ax = axes[1])\n",
    "sns.boxplot(y = data[\"rating\"], ax = axes[2])\n",
    "plt.show()"
   ]
  },
  {
   "cell_type": "markdown",
   "metadata": {},
   "source": [
    "- Ada outliers di kolom Original_price dan rating"
   ]
  },
  {
   "cell_type": "markdown",
   "metadata": {},
   "source": [
    "#### Cek outliers di kolom Original_price"
   ]
  },
  {
   "cell_type": "code",
   "execution_count": 9,
   "metadata": {},
   "outputs": [
    {
     "data": {
      "text/plain": [
       "count      583.000000\n",
       "mean       864.498113\n",
       "std       1803.365527\n",
       "min         42.000000\n",
       "25%        273.000000\n",
       "50%        499.000000\n",
       "75%        980.000000\n",
       "max      29970.000000\n",
       "Name: Original_price, dtype: float64"
      ]
     },
     "execution_count": 9,
     "metadata": {},
     "output_type": "execute_result"
    }
   ],
   "source": [
    "data[\"Original_price\"].describe()"
   ]
  },
  {
   "cell_type": "code",
   "execution_count": 10,
   "metadata": {},
   "outputs": [
    {
     "name": "stdout",
     "output_type": "stream",
     "text": [
      "Original_price\n",
      "IQR = 707\n",
      "Upper fence = 2040.5\n",
      "Lower fence =  -787.5\n"
     ]
    }
   ],
   "source": [
    "Q1 = 273\n",
    "Q3 = 980\n",
    "\n",
    "IQR = Q3 - Q1\n",
    "upper_fence = Q3 + (1.5 * IQR)\n",
    "lower_fence = Q1 - (1.5 * IQR)\n",
    "\n",
    "print(\"Original_price\")\n",
    "print(\"IQR =\", IQR)\n",
    "print(\"Upper fence =\", upper_fence)\n",
    "print(\"Lower fence = \", lower_fence)\n"
   ]
  },
  {
   "cell_type": "code",
   "execution_count": 11,
   "metadata": {},
   "outputs": [
    {
     "data": {
      "text/html": [
       "<div>\n",
       "<style scoped>\n",
       "    .dataframe tbody tr th:only-of-type {\n",
       "        vertical-align: middle;\n",
       "    }\n",
       "\n",
       "    .dataframe tbody tr th {\n",
       "        vertical-align: top;\n",
       "    }\n",
       "\n",
       "    .dataframe thead th {\n",
       "        text-align: right;\n",
       "    }\n",
       "</style>\n",
       "<table border=\"1\" class=\"dataframe\">\n",
       "  <thead>\n",
       "    <tr style=\"text-align: right;\">\n",
       "      <th></th>\n",
       "      <th>Unnamed: 0</th>\n",
       "      <th>category</th>\n",
       "      <th>product</th>\n",
       "      <th>Original_price</th>\n",
       "      <th>price</th>\n",
       "      <th>perc_of_unit_sold</th>\n",
       "      <th>rating</th>\n",
       "      <th>shpping_rate</th>\n",
       "      <th>gender</th>\n",
       "    </tr>\n",
       "  </thead>\n",
       "  <tbody>\n",
       "    <tr>\n",
       "      <th>282</th>\n",
       "      <td>140</td>\n",
       "      <td>Eyewear</td>\n",
       "      <td>Bottega Veneta Sunglasses For Unisex, Bv0013S-...</td>\n",
       "      <td>2094.0</td>\n",
       "      <td>1175.99</td>\n",
       "      <td>14.0</td>\n",
       "      <td>NaN</td>\n",
       "      <td>FREE Shipping</td>\n",
       "      <td>Unisex</td>\n",
       "    </tr>\n",
       "    <tr>\n",
       "      <th>431</th>\n",
       "      <td>2</td>\n",
       "      <td>Watches</td>\n",
       "      <td>JBW Mondrian Women's 16 Diamonds Rose Gold Dia...</td>\n",
       "      <td>2990.0</td>\n",
       "      <td>564.98</td>\n",
       "      <td>94.0</td>\n",
       "      <td>88.0</td>\n",
       "      <td>FREE Shipping</td>\n",
       "      <td>women</td>\n",
       "    </tr>\n",
       "    <tr>\n",
       "      <th>435</th>\n",
       "      <td>6</td>\n",
       "      <td>Watches</td>\n",
       "      <td>JBW 562 Men's 12 Diamonds Gold Dial Gold-Plate...</td>\n",
       "      <td>2749.0</td>\n",
       "      <td>1230.00</td>\n",
       "      <td>NaN</td>\n",
       "      <td>76.0</td>\n",
       "      <td>NaN</td>\n",
       "      <td>men</td>\n",
       "    </tr>\n",
       "    <tr>\n",
       "      <th>450</th>\n",
       "      <td>21</td>\n",
       "      <td>Watches</td>\n",
       "      <td>Burberry Watch For Men,Stainless Steel Band, Q...</td>\n",
       "      <td>2865.0</td>\n",
       "      <td>1196.49</td>\n",
       "      <td>91.0</td>\n",
       "      <td>90.0</td>\n",
       "      <td>FREE Shipping</td>\n",
       "      <td>men</td>\n",
       "    </tr>\n",
       "    <tr>\n",
       "      <th>455</th>\n",
       "      <td>26</td>\n",
       "      <td>Watches</td>\n",
       "      <td>Akribos XXIV Men's Silver Dial Stainless Steel...</td>\n",
       "      <td>2610.0</td>\n",
       "      <td>209.49</td>\n",
       "      <td>81.0</td>\n",
       "      <td>100.0</td>\n",
       "      <td>FREE Shipping</td>\n",
       "      <td>men</td>\n",
       "    </tr>\n",
       "  </tbody>\n",
       "</table>\n",
       "</div>"
      ],
      "text/plain": [
       "     Unnamed: 0 category                                            product  \\\n",
       "282         140  Eyewear  Bottega Veneta Sunglasses For Unisex, Bv0013S-...   \n",
       "431           2  Watches  JBW Mondrian Women's 16 Diamonds Rose Gold Dia...   \n",
       "435           6  Watches  JBW 562 Men's 12 Diamonds Gold Dial Gold-Plate...   \n",
       "450          21  Watches  Burberry Watch For Men,Stainless Steel Band, Q...   \n",
       "455          26  Watches  Akribos XXIV Men's Silver Dial Stainless Steel...   \n",
       "\n",
       "     Original_price    price  perc_of_unit_sold  rating   shpping_rate  gender  \n",
       "282          2094.0  1175.99               14.0     NaN  FREE Shipping  Unisex  \n",
       "431          2990.0   564.98               94.0    88.0  FREE Shipping   women  \n",
       "435          2749.0  1230.00                NaN    76.0            NaN     men  \n",
       "450          2865.0  1196.49               91.0    90.0  FREE Shipping     men  \n",
       "455          2610.0   209.49               81.0   100.0  FREE Shipping     men  "
      ]
     },
     "execution_count": 11,
     "metadata": {},
     "output_type": "execute_result"
    }
   ],
   "source": [
    "data[(data[\"Original_price\"] < lower_fence) | (data[\"Original_price\"] > upper_fence)].head()"
   ]
  },
  {
   "cell_type": "markdown",
   "metadata": {},
   "source": [
    "#### Mengisi missing value di kolom Original_price dengan median, karena terdapat missing value"
   ]
  },
  {
   "cell_type": "code",
   "execution_count": 12,
   "metadata": {},
   "outputs": [],
   "source": [
    "data[\"Original_price\"].fillna(data[\"Original_price\"].median(), inplace = True)"
   ]
  },
  {
   "cell_type": "markdown",
   "metadata": {},
   "source": [
    "#### Cek data outliers di kolom rating"
   ]
  },
  {
   "cell_type": "code",
   "execution_count": 13,
   "metadata": {},
   "outputs": [
    {
     "data": {
      "text/plain": [
       "count    427.000000\n",
       "mean      87.807963\n",
       "std       11.422350\n",
       "min       20.000000\n",
       "25%       82.000000\n",
       "50%       88.000000\n",
       "75%       96.000000\n",
       "max      100.000000\n",
       "Name: rating, dtype: float64"
      ]
     },
     "execution_count": 13,
     "metadata": {},
     "output_type": "execute_result"
    }
   ],
   "source": [
    "data[\"rating\"].describe()"
   ]
  },
  {
   "cell_type": "code",
   "execution_count": 14,
   "metadata": {},
   "outputs": [
    {
     "name": "stdout",
     "output_type": "stream",
     "text": [
      "rating\n",
      "IQR = 14\n",
      "Upper fence = 117.0\n",
      "Lower fence = 75.0\n"
     ]
    }
   ],
   "source": [
    "Q1 = 82\n",
    "Q3 = 96\n",
    "\n",
    "IQR = Q3 - Q1\n",
    "upper_fence = Q3 + (1.5 * IQR)\n",
    "lower_fence = Q3 - (1.5 * IQR)\n",
    "\n",
    "print(\"rating\")\n",
    "print(\"IQR =\", IQR)\n",
    "print(\"Upper fence =\", upper_fence)\n",
    "print(\"Lower fence =\", lower_fence)"
   ]
  },
  {
   "cell_type": "code",
   "execution_count": 15,
   "metadata": {},
   "outputs": [
    {
     "data": {
      "text/html": [
       "<div>\n",
       "<style scoped>\n",
       "    .dataframe tbody tr th:only-of-type {\n",
       "        vertical-align: middle;\n",
       "    }\n",
       "\n",
       "    .dataframe tbody tr th {\n",
       "        vertical-align: top;\n",
       "    }\n",
       "\n",
       "    .dataframe thead th {\n",
       "        text-align: right;\n",
       "    }\n",
       "</style>\n",
       "<table border=\"1\" class=\"dataframe\">\n",
       "  <thead>\n",
       "    <tr style=\"text-align: right;\">\n",
       "      <th></th>\n",
       "      <th>Unnamed: 0</th>\n",
       "      <th>category</th>\n",
       "      <th>product</th>\n",
       "      <th>Original_price</th>\n",
       "      <th>price</th>\n",
       "      <th>perc_of_unit_sold</th>\n",
       "      <th>rating</th>\n",
       "      <th>shpping_rate</th>\n",
       "      <th>gender</th>\n",
       "    </tr>\n",
       "  </thead>\n",
       "  <tbody>\n",
       "    <tr>\n",
       "      <th>104</th>\n",
       "      <td>9</td>\n",
       "      <td>Casual &amp; Dress Shoes</td>\n",
       "      <td>Jack and Jones Shoes for Men  - Black - 43 EU</td>\n",
       "      <td>209.0</td>\n",
       "      <td>100.49</td>\n",
       "      <td>39.0</td>\n",
       "      <td>74.0</td>\n",
       "      <td>Eligible for FREE Shipping</td>\n",
       "      <td>men</td>\n",
       "    </tr>\n",
       "    <tr>\n",
       "      <th>153</th>\n",
       "      <td>11</td>\n",
       "      <td>Eyewear</td>\n",
       "      <td>Diesel Wayfarer Unisex's Sunglasses - Dl0161 -...</td>\n",
       "      <td>755.0</td>\n",
       "      <td>238.49</td>\n",
       "      <td>57.0</td>\n",
       "      <td>66.0</td>\n",
       "      <td>FREE Shipping</td>\n",
       "      <td>Unisex</td>\n",
       "    </tr>\n",
       "    <tr>\n",
       "      <th>159</th>\n",
       "      <td>17</td>\n",
       "      <td>Eyewear</td>\n",
       "      <td>Polaroid Sunglasses , for Women , Mixed , Avia...</td>\n",
       "      <td>201.0</td>\n",
       "      <td>129.49</td>\n",
       "      <td>22.0</td>\n",
       "      <td>60.0</td>\n",
       "      <td>Eligible for FREE Shipping</td>\n",
       "      <td>women</td>\n",
       "    </tr>\n",
       "    <tr>\n",
       "      <th>166</th>\n",
       "      <td>24</td>\n",
       "      <td>Eyewear</td>\n",
       "      <td>Ray-Ban Sunglasses for Unisex -0RB3552i</td>\n",
       "      <td>614.0</td>\n",
       "      <td>276.49</td>\n",
       "      <td>85.0</td>\n",
       "      <td>68.0</td>\n",
       "      <td>FREE Shipping</td>\n",
       "      <td>Unisex</td>\n",
       "    </tr>\n",
       "    <tr>\n",
       "      <th>205</th>\n",
       "      <td>63</td>\n",
       "      <td>Eyewear</td>\n",
       "      <td>Lacoste Men's Sunglasses Rectangular Petit Piq...</td>\n",
       "      <td>793.0</td>\n",
       "      <td>442.48</td>\n",
       "      <td>50.0</td>\n",
       "      <td>20.0</td>\n",
       "      <td>FREE Shipping</td>\n",
       "      <td>men</td>\n",
       "    </tr>\n",
       "  </tbody>\n",
       "</table>\n",
       "</div>"
      ],
      "text/plain": [
       "     Unnamed: 0              category  \\\n",
       "104           9  Casual & Dress Shoes   \n",
       "153          11               Eyewear   \n",
       "159          17               Eyewear   \n",
       "166          24               Eyewear   \n",
       "205          63               Eyewear   \n",
       "\n",
       "                                               product  Original_price  \\\n",
       "104      Jack and Jones Shoes for Men  - Black - 43 EU           209.0   \n",
       "153  Diesel Wayfarer Unisex's Sunglasses - Dl0161 -...           755.0   \n",
       "159  Polaroid Sunglasses , for Women , Mixed , Avia...           201.0   \n",
       "166            Ray-Ban Sunglasses for Unisex -0RB3552i           614.0   \n",
       "205  Lacoste Men's Sunglasses Rectangular Petit Piq...           793.0   \n",
       "\n",
       "      price  perc_of_unit_sold  rating                shpping_rate  gender  \n",
       "104  100.49               39.0    74.0  Eligible for FREE Shipping     men  \n",
       "153  238.49               57.0    66.0               FREE Shipping  Unisex  \n",
       "159  129.49               22.0    60.0  Eligible for FREE Shipping   women  \n",
       "166  276.49               85.0    68.0               FREE Shipping  Unisex  \n",
       "205  442.48               50.0    20.0               FREE Shipping     men  "
      ]
     },
     "execution_count": 15,
     "metadata": {},
     "output_type": "execute_result"
    }
   ],
   "source": [
    "data[(data[\"rating\"] > upper_fence) | (data[\"rating\"] < lower_fence)].head()"
   ]
  },
  {
   "cell_type": "markdown",
   "metadata": {},
   "source": [
    "#### Mengisi missing value pada kolom rating dengan median, karena terdapat outliers"
   ]
  },
  {
   "cell_type": "code",
   "execution_count": 16,
   "metadata": {},
   "outputs": [],
   "source": [
    "data[\"rating\"].fillna(data[\"rating\"].median(), inplace = True)"
   ]
  },
  {
   "cell_type": "markdown",
   "metadata": {},
   "source": [
    "#### Handling missing value di kolom per_of_unit_sold, mengisinya dengan mean karena tidak ada outliers"
   ]
  },
  {
   "cell_type": "code",
   "execution_count": 17,
   "metadata": {},
   "outputs": [],
   "source": [
    "data[\"perc_of_unit_sold\"].fillna(data[\"perc_of_unit_sold\"].mean(), inplace = True)"
   ]
  },
  {
   "cell_type": "markdown",
   "metadata": {},
   "source": [
    "#### 2. Kategorik"
   ]
  },
  {
   "cell_type": "markdown",
   "metadata": {},
   "source": [
    "#### Mengisi missing value pada kolom kategorik dengan modus"
   ]
  },
  {
   "cell_type": "markdown",
   "metadata": {},
   "source": [
    "##### shpping_rate"
   ]
  },
  {
   "cell_type": "code",
   "execution_count": 18,
   "metadata": {},
   "outputs": [
    {
     "data": {
      "text/plain": [
       "count               567\n",
       "unique                2\n",
       "top       FREE Shipping\n",
       "freq                356\n",
       "Name: shpping_rate, dtype: object"
      ]
     },
     "execution_count": 18,
     "metadata": {},
     "output_type": "execute_result"
    }
   ],
   "source": [
    "data[\"shpping_rate\"].describe()"
   ]
  },
  {
   "cell_type": "code",
   "execution_count": 19,
   "metadata": {},
   "outputs": [],
   "source": [
    "data[\"shpping_rate\"].fillna(\"FREE Shipping\", inplace = True)"
   ]
  },
  {
   "cell_type": "markdown",
   "metadata": {},
   "source": [
    "##### gender"
   ]
  },
  {
   "cell_type": "code",
   "execution_count": 20,
   "metadata": {},
   "outputs": [
    {
     "data": {
      "text/plain": [
       "count     581\n",
       "unique      3\n",
       "top       men\n",
       "freq      338\n",
       "Name: gender, dtype: object"
      ]
     },
     "execution_count": 20,
     "metadata": {},
     "output_type": "execute_result"
    }
   ],
   "source": [
    "data[\"gender\"].describe()"
   ]
  },
  {
   "cell_type": "code",
   "execution_count": 21,
   "metadata": {},
   "outputs": [],
   "source": [
    "data[\"gender\"].fillna(\"men\", inplace = True)"
   ]
  },
  {
   "cell_type": "code",
   "execution_count": 22,
   "metadata": {},
   "outputs": [
    {
     "data": {
      "text/plain": [
       "Unnamed: 0           0\n",
       "category             0\n",
       "product              0\n",
       "Original_price       0\n",
       "price                0\n",
       "perc_of_unit_sold    0\n",
       "rating               0\n",
       "shpping_rate         0\n",
       "gender               0\n",
       "dtype: int64"
      ]
     },
     "execution_count": 22,
     "metadata": {},
     "output_type": "execute_result"
    }
   ],
   "source": [
    "data.isna().sum()"
   ]
  },
  {
   "cell_type": "markdown",
   "metadata": {},
   "source": [
    "- Sudah tidak ada missinig value di dalam data"
   ]
  },
  {
   "cell_type": "markdown",
   "metadata": {},
   "source": [
    "### Drop Kolom"
   ]
  },
  {
   "cell_type": "markdown",
   "metadata": {},
   "source": [
    "- Menghapus kolom yang tidak digunakan dalam analisa data\n",
    "- Menghapus kolom Unnamed: 0"
   ]
  },
  {
   "cell_type": "code",
   "execution_count": 23,
   "metadata": {},
   "outputs": [],
   "source": [
    "data.drop([\"Unnamed: 0\"], axis = 1, inplace = True)"
   ]
  },
  {
   "cell_type": "code",
   "execution_count": 24,
   "metadata": {},
   "outputs": [
    {
     "data": {
      "text/html": [
       "<div>\n",
       "<style scoped>\n",
       "    .dataframe tbody tr th:only-of-type {\n",
       "        vertical-align: middle;\n",
       "    }\n",
       "\n",
       "    .dataframe tbody tr th {\n",
       "        vertical-align: top;\n",
       "    }\n",
       "\n",
       "    .dataframe thead th {\n",
       "        text-align: right;\n",
       "    }\n",
       "</style>\n",
       "<table border=\"1\" class=\"dataframe\">\n",
       "  <thead>\n",
       "    <tr style=\"text-align: right;\">\n",
       "      <th></th>\n",
       "      <th>category</th>\n",
       "      <th>product</th>\n",
       "      <th>Original_price</th>\n",
       "      <th>price</th>\n",
       "      <th>perc_of_unit_sold</th>\n",
       "      <th>rating</th>\n",
       "      <th>shpping_rate</th>\n",
       "      <th>gender</th>\n",
       "    </tr>\n",
       "  </thead>\n",
       "  <tbody>\n",
       "    <tr>\n",
       "      <th>0</th>\n",
       "      <td>Athletic Shoes</td>\n",
       "      <td>Nike SB Check Solar Cnvs Skateboarding Shoes f...</td>\n",
       "      <td>299.0</td>\n",
       "      <td>211.48</td>\n",
       "      <td>94.0</td>\n",
       "      <td>100.0</td>\n",
       "      <td>FREE Shipping</td>\n",
       "      <td>men</td>\n",
       "    </tr>\n",
       "    <tr>\n",
       "      <th>1</th>\n",
       "      <td>Athletic Shoes</td>\n",
       "      <td>Nike Md Runner 2 Two-Tone Textile-Mesh Suede-A...</td>\n",
       "      <td>349.0</td>\n",
       "      <td>289.99</td>\n",
       "      <td>80.0</td>\n",
       "      <td>88.0</td>\n",
       "      <td>FREE Shipping</td>\n",
       "      <td>men</td>\n",
       "    </tr>\n",
       "    <tr>\n",
       "      <th>2</th>\n",
       "      <td>Athletic Shoes</td>\n",
       "      <td>Nike air Heights Sneaker for Women , Size 38 E...</td>\n",
       "      <td>419.0</td>\n",
       "      <td>337.48</td>\n",
       "      <td>77.0</td>\n",
       "      <td>88.0</td>\n",
       "      <td>FREE Shipping</td>\n",
       "      <td>women</td>\n",
       "    </tr>\n",
       "    <tr>\n",
       "      <th>3</th>\n",
       "      <td>Athletic Shoes</td>\n",
       "      <td>Nike Fitness Shoes For Men , 43 EU , Black</td>\n",
       "      <td>319.0</td>\n",
       "      <td>211.48</td>\n",
       "      <td>76.0</td>\n",
       "      <td>80.0</td>\n",
       "      <td>FREE Shipping</td>\n",
       "      <td>men</td>\n",
       "    </tr>\n",
       "    <tr>\n",
       "      <th>4</th>\n",
       "      <td>Athletic Shoes</td>\n",
       "      <td>adidas ASWEERUN Sneaker for Mens, Grey - Size ...</td>\n",
       "      <td>259.0</td>\n",
       "      <td>194.99</td>\n",
       "      <td>94.0</td>\n",
       "      <td>88.0</td>\n",
       "      <td>Eligible for FREE Shipping</td>\n",
       "      <td>men</td>\n",
       "    </tr>\n",
       "  </tbody>\n",
       "</table>\n",
       "</div>"
      ],
      "text/plain": [
       "         category                                            product  \\\n",
       "0  Athletic Shoes  Nike SB Check Solar Cnvs Skateboarding Shoes f...   \n",
       "1  Athletic Shoes  Nike Md Runner 2 Two-Tone Textile-Mesh Suede-A...   \n",
       "2  Athletic Shoes  Nike air Heights Sneaker for Women , Size 38 E...   \n",
       "3  Athletic Shoes         Nike Fitness Shoes For Men , 43 EU , Black   \n",
       "4  Athletic Shoes  adidas ASWEERUN Sneaker for Mens, Grey - Size ...   \n",
       "\n",
       "   Original_price   price  perc_of_unit_sold  rating  \\\n",
       "0           299.0  211.48               94.0   100.0   \n",
       "1           349.0  289.99               80.0    88.0   \n",
       "2           419.0  337.48               77.0    88.0   \n",
       "3           319.0  211.48               76.0    80.0   \n",
       "4           259.0  194.99               94.0    88.0   \n",
       "\n",
       "                 shpping_rate gender  \n",
       "0               FREE Shipping    men  \n",
       "1               FREE Shipping    men  \n",
       "2               FREE Shipping  women  \n",
       "3               FREE Shipping    men  \n",
       "4  Eligible for FREE Shipping    men  "
      ]
     },
     "execution_count": 24,
     "metadata": {},
     "output_type": "execute_result"
    }
   ],
   "source": [
    "data.head()"
   ]
  },
  {
   "cell_type": "markdown",
   "metadata": {},
   "source": [
    "### Cek Duplikasi Data"
   ]
  },
  {
   "cell_type": "code",
   "execution_count": 25,
   "metadata": {},
   "outputs": [
    {
     "data": {
      "text/html": [
       "<div>\n",
       "<style scoped>\n",
       "    .dataframe tbody tr th:only-of-type {\n",
       "        vertical-align: middle;\n",
       "    }\n",
       "\n",
       "    .dataframe tbody tr th {\n",
       "        vertical-align: top;\n",
       "    }\n",
       "\n",
       "    .dataframe thead th {\n",
       "        text-align: right;\n",
       "    }\n",
       "</style>\n",
       "<table border=\"1\" class=\"dataframe\">\n",
       "  <thead>\n",
       "    <tr style=\"text-align: right;\">\n",
       "      <th></th>\n",
       "      <th>category</th>\n",
       "      <th>product</th>\n",
       "      <th>Original_price</th>\n",
       "      <th>price</th>\n",
       "      <th>perc_of_unit_sold</th>\n",
       "      <th>rating</th>\n",
       "      <th>shpping_rate</th>\n",
       "      <th>gender</th>\n",
       "    </tr>\n",
       "  </thead>\n",
       "  <tbody>\n",
       "  </tbody>\n",
       "</table>\n",
       "</div>"
      ],
      "text/plain": [
       "Empty DataFrame\n",
       "Columns: [category, product, Original_price, price, perc_of_unit_sold, rating, shpping_rate, gender]\n",
       "Index: []"
      ]
     },
     "execution_count": 25,
     "metadata": {},
     "output_type": "execute_result"
    }
   ],
   "source": [
    "data[data.duplicated()]"
   ]
  },
  {
   "cell_type": "code",
   "execution_count": 26,
   "metadata": {},
   "outputs": [
    {
     "name": "stdout",
     "output_type": "stream",
     "text": [
      "False    609\n",
      "dtype: int64\n"
     ]
    }
   ],
   "source": [
    "print(data.duplicated().value_counts())"
   ]
  },
  {
   "cell_type": "markdown",
   "metadata": {},
   "source": [
    "- Sudah tidak ada data duplikat"
   ]
  },
  {
   "cell_type": "markdown",
   "metadata": {},
   "source": [
    "## Analisa Data"
   ]
  },
  {
   "cell_type": "code",
   "execution_count": 27,
   "metadata": {},
   "outputs": [
    {
     "data": {
      "text/plain": [
       "<AxesSubplot:>"
      ]
     },
     "execution_count": 27,
     "metadata": {},
     "output_type": "execute_result"
    },
    {
     "data": {
      "image/png": "[encoded data removed]",
      "text/plain": [
       "<Figure size 432x288 with 2 Axes>"
      ]
     },
     "metadata": {
      "needs_background": "light"
     },
     "output_type": "display_data"
    }
   ],
   "source": [
    "sns.heatmap(data.corr(), annot = True)"
   ]
  },
  {
   "cell_type": "markdown",
   "metadata": {},
   "source": [
    "#### Membuat kolom diskon"
   ]
  },
  {
   "cell_type": "code",
   "execution_count": 28,
   "metadata": {},
   "outputs": [],
   "source": [
    "data[\"diskon\"] = round((data['Original_price'] - data['price']) / data['Original_price'] *100)"
   ]
  },
  {
   "cell_type": "code",
   "execution_count": 44,
   "metadata": {},
   "outputs": [
    {
     "data": {
      "text/html": [
       "<div>\n",
       "<style scoped>\n",
       "    .dataframe tbody tr th:only-of-type {\n",
       "        vertical-align: middle;\n",
       "    }\n",
       "\n",
       "    .dataframe tbody tr th {\n",
       "        vertical-align: top;\n",
       "    }\n",
       "\n",
       "    .dataframe thead th {\n",
       "        text-align: right;\n",
       "    }\n",
       "</style>\n",
       "<table border=\"1\" class=\"dataframe\">\n",
       "  <thead>\n",
       "    <tr style=\"text-align: right;\">\n",
       "      <th></th>\n",
       "      <th>category</th>\n",
       "      <th>product</th>\n",
       "      <th>Original_price</th>\n",
       "      <th>price</th>\n",
       "      <th>perc_of_unit_sold</th>\n",
       "      <th>rating</th>\n",
       "      <th>shpping_rate</th>\n",
       "      <th>gender</th>\n",
       "      <th>diskon</th>\n",
       "    </tr>\n",
       "  </thead>\n",
       "  <tbody>\n",
       "    <tr>\n",
       "      <th>0</th>\n",
       "      <td>Athletic Shoes</td>\n",
       "      <td>Nike SB Check Solar Cnvs Skateboarding Shoes f...</td>\n",
       "      <td>299.0</td>\n",
       "      <td>211.48</td>\n",
       "      <td>94.0</td>\n",
       "      <td>100.0</td>\n",
       "      <td>FREE Shipping</td>\n",
       "      <td>men</td>\n",
       "      <td>29.0</td>\n",
       "    </tr>\n",
       "    <tr>\n",
       "      <th>1</th>\n",
       "      <td>Athletic Shoes</td>\n",
       "      <td>Nike Md Runner 2 Two-Tone Textile-Mesh Suede-A...</td>\n",
       "      <td>349.0</td>\n",
       "      <td>289.99</td>\n",
       "      <td>80.0</td>\n",
       "      <td>88.0</td>\n",
       "      <td>FREE Shipping</td>\n",
       "      <td>men</td>\n",
       "      <td>17.0</td>\n",
       "    </tr>\n",
       "    <tr>\n",
       "      <th>2</th>\n",
       "      <td>Athletic Shoes</td>\n",
       "      <td>Nike air Heights Sneaker for Women , Size 38 E...</td>\n",
       "      <td>419.0</td>\n",
       "      <td>337.48</td>\n",
       "      <td>77.0</td>\n",
       "      <td>88.0</td>\n",
       "      <td>FREE Shipping</td>\n",
       "      <td>women</td>\n",
       "      <td>19.0</td>\n",
       "    </tr>\n",
       "    <tr>\n",
       "      <th>3</th>\n",
       "      <td>Athletic Shoes</td>\n",
       "      <td>Nike Fitness Shoes For Men , 43 EU , Black</td>\n",
       "      <td>319.0</td>\n",
       "      <td>211.48</td>\n",
       "      <td>76.0</td>\n",
       "      <td>80.0</td>\n",
       "      <td>FREE Shipping</td>\n",
       "      <td>men</td>\n",
       "      <td>34.0</td>\n",
       "    </tr>\n",
       "    <tr>\n",
       "      <th>4</th>\n",
       "      <td>Athletic Shoes</td>\n",
       "      <td>adidas ASWEERUN Sneaker for Mens, Grey - Size ...</td>\n",
       "      <td>259.0</td>\n",
       "      <td>194.99</td>\n",
       "      <td>94.0</td>\n",
       "      <td>88.0</td>\n",
       "      <td>Eligible for FREE Shipping</td>\n",
       "      <td>men</td>\n",
       "      <td>25.0</td>\n",
       "    </tr>\n",
       "  </tbody>\n",
       "</table>\n",
       "</div>"
      ],
      "text/plain": [
       "         category                                            product  \\\n",
       "0  Athletic Shoes  Nike SB Check Solar Cnvs Skateboarding Shoes f...   \n",
       "1  Athletic Shoes  Nike Md Runner 2 Two-Tone Textile-Mesh Suede-A...   \n",
       "2  Athletic Shoes  Nike air Heights Sneaker for Women , Size 38 E...   \n",
       "3  Athletic Shoes         Nike Fitness Shoes For Men , 43 EU , Black   \n",
       "4  Athletic Shoes  adidas ASWEERUN Sneaker for Mens, Grey - Size ...   \n",
       "\n",
       "   Original_price   price  perc_of_unit_sold  rating  \\\n",
       "0           299.0  211.48               94.0   100.0   \n",
       "1           349.0  289.99               80.0    88.0   \n",
       "2           419.0  337.48               77.0    88.0   \n",
       "3           319.0  211.48               76.0    80.0   \n",
       "4           259.0  194.99               94.0    88.0   \n",
       "\n",
       "                 shpping_rate gender  diskon  \n",
       "0               FREE Shipping    men    29.0  \n",
       "1               FREE Shipping    men    17.0  \n",
       "2               FREE Shipping  women    19.0  \n",
       "3               FREE Shipping    men    34.0  \n",
       "4  Eligible for FREE Shipping    men    25.0  "
      ]
     },
     "execution_count": 44,
     "metadata": {},
     "output_type": "execute_result"
    }
   ],
   "source": [
    "data.head()"
   ]
  },
  {
   "cell_type": "code",
   "execution_count": 104,
   "metadata": {},
   "outputs": [
    {
     "data": {
      "image/png": "[encoded data removed]",
      "text/plain": [
       "<Figure size 432x432 with 3 Axes>"
      ]
     },
     "metadata": {
      "needs_background": "light"
     },
     "output_type": "display_data"
    }
   ],
   "source": [
    "sns.jointplot(x = \"diskon\", y = \"perc_of_unit_sold\", data = data)\n",
    "plt.show()"
   ]
  },
  {
   "cell_type": "code",
   "execution_count": 105,
   "metadata": {},
   "outputs": [
    {
     "data": {
      "image/png": "[encoded data removed]",
      "text/plain": [
       "<Figure size 432x432 with 3 Axes>"
      ]
     },
     "metadata": {
      "needs_background": "light"
     },
     "output_type": "display_data"
    }
   ],
   "source": [
    "sns.jointplot(x = data[\"diskon\"], y = data[\"rating\"])\n",
    "plt.show()"
   ]
  },
  {
   "cell_type": "markdown",
   "metadata": {},
   "source": [
    "- Strategi memberikan potongan harga 50% bisa mempengaruhi persentase penjualan secara signifikan dan mendapatkan feedback berupa rating yang bagus dari customer"
   ]
  },
  {
   "cell_type": "markdown",
   "metadata": {},
   "source": [
    "### Penjualan Produk Terjual per Category"
   ]
  },
  {
   "cell_type": "code",
   "execution_count": 87,
   "metadata": {},
   "outputs": [
    {
     "data": {
      "text/html": [
       "<div>\n",
       "<style scoped>\n",
       "    .dataframe tbody tr th:only-of-type {\n",
       "        vertical-align: middle;\n",
       "    }\n",
       "\n",
       "    .dataframe tbody tr th {\n",
       "        vertical-align: top;\n",
       "    }\n",
       "\n",
       "    .dataframe thead th {\n",
       "        text-align: right;\n",
       "    }\n",
       "</style>\n",
       "<table border=\"1\" class=\"dataframe\">\n",
       "  <thead>\n",
       "    <tr style=\"text-align: right;\">\n",
       "      <th>col_0</th>\n",
       "      <th>persentase terjual</th>\n",
       "    </tr>\n",
       "    <tr>\n",
       "      <th>category</th>\n",
       "      <th></th>\n",
       "    </tr>\n",
       "  </thead>\n",
       "  <tbody>\n",
       "    <tr>\n",
       "      <th>Watches</th>\n",
       "      <td>180</td>\n",
       "    </tr>\n",
       "    <tr>\n",
       "      <th>Eyewear</th>\n",
       "      <td>154</td>\n",
       "    </tr>\n",
       "    <tr>\n",
       "      <th>Athletic Shoes</th>\n",
       "      <td>95</td>\n",
       "    </tr>\n",
       "    <tr>\n",
       "      <th>Perfumes &amp; Fragrances</th>\n",
       "      <td>63</td>\n",
       "    </tr>\n",
       "    <tr>\n",
       "      <th>Casual &amp; Dress Shoes</th>\n",
       "      <td>47</td>\n",
       "    </tr>\n",
       "    <tr>\n",
       "      <th>Wallets</th>\n",
       "      <td>37</td>\n",
       "    </tr>\n",
       "    <tr>\n",
       "      <th>Sportswear</th>\n",
       "      <td>33</td>\n",
       "    </tr>\n",
       "  </tbody>\n",
       "</table>\n",
       "</div>"
      ],
      "text/plain": [
       "col_0                  persentase terjual\n",
       "category                                 \n",
       "Watches                               180\n",
       "Eyewear                               154\n",
       "Athletic Shoes                         95\n",
       "Perfumes & Fragrances                  63\n",
       "Casual & Dress Shoes                   47\n",
       "Wallets                                37\n",
       "Sportswear                             33"
      ]
     },
     "execution_count": 87,
     "metadata": {},
     "output_type": "execute_result"
    }
   ],
   "source": [
    "pd.crosstab(index= data[\"category\"], columns = \"persentase terjual\", values = data[\"perc_of_unit_sold\"], aggfunc=\"count\").sort_values(\"persentase terjual\", ascending = False)"
   ]
  },
  {
   "cell_type": "code",
   "execution_count": 89,
   "metadata": {},
   "outputs": [
    {
     "data": {
      "text/plain": [
       "Text(0, 0.5, 'Produk Terjual')"
      ]
     },
     "execution_count": 89,
     "metadata": {},
     "output_type": "execute_result"
    },
    {
     "data": {
      "image/png": "[encoded data removed]",
      "text/plain": [
       "<Figure size 720x432 with 1 Axes>"
      ]
     },
     "metadata": {
      "needs_background": "light"
     },
     "output_type": "display_data"
    }
   ],
   "source": [
    "plt.figure(figsize= (10,6))\n",
    "sns.barplot(data[\"category\"], data[\"perc_of_unit_sold\"], estimator = sum)\n",
    "plt.title(\"Persentase Produk Terjual Berdasarkan Category\")\n",
    "plt.xlabel(\"Kategori\")\n",
    "plt.ylabel(\"Produk Terjual\")"
   ]
  },
  {
   "cell_type": "markdown",
   "metadata": {},
   "source": [
    " - Watches menjadi kategori dengan persentase penjualan tertinggi"
   ]
  },
  {
   "cell_type": "markdown",
   "metadata": {},
   "source": [
    "### Persentase Produk Terjual per Category Berdasarkan Gender"
   ]
  },
  {
   "cell_type": "code",
   "execution_count": 93,
   "metadata": {},
   "outputs": [
    {
     "data": {
      "text/html": [
       "<div>\n",
       "<style scoped>\n",
       "    .dataframe tbody tr th:only-of-type {\n",
       "        vertical-align: middle;\n",
       "    }\n",
       "\n",
       "    .dataframe tbody tr th {\n",
       "        vertical-align: top;\n",
       "    }\n",
       "\n",
       "    .dataframe thead th {\n",
       "        text-align: right;\n",
       "    }\n",
       "</style>\n",
       "<table border=\"1\" class=\"dataframe\">\n",
       "  <thead>\n",
       "    <tr style=\"text-align: right;\">\n",
       "      <th>category</th>\n",
       "      <th>Athletic Shoes</th>\n",
       "      <th>Casual &amp; Dress Shoes</th>\n",
       "      <th>Eyewear</th>\n",
       "      <th>Perfumes &amp; Fragrances</th>\n",
       "      <th>Sportswear</th>\n",
       "      <th>Wallets</th>\n",
       "      <th>Watches</th>\n",
       "    </tr>\n",
       "    <tr>\n",
       "      <th>gender</th>\n",
       "      <th></th>\n",
       "      <th></th>\n",
       "      <th></th>\n",
       "      <th></th>\n",
       "      <th></th>\n",
       "      <th></th>\n",
       "      <th></th>\n",
       "    </tr>\n",
       "  </thead>\n",
       "  <tbody>\n",
       "    <tr>\n",
       "      <th>Unisex</th>\n",
       "      <td>66.00</td>\n",
       "      <td>NaN</td>\n",
       "      <td>3511.10</td>\n",
       "      <td>409.0</td>\n",
       "      <td>NaN</td>\n",
       "      <td>45.00</td>\n",
       "      <td>436.68</td>\n",
       "    </tr>\n",
       "    <tr>\n",
       "      <th>men</th>\n",
       "      <td>4349.10</td>\n",
       "      <td>2189.10</td>\n",
       "      <td>3256.43</td>\n",
       "      <td>1803.0</td>\n",
       "      <td>1151.71</td>\n",
       "      <td>1404.68</td>\n",
       "      <td>7366.28</td>\n",
       "    </tr>\n",
       "    <tr>\n",
       "      <th>women</th>\n",
       "      <td>1504.71</td>\n",
       "      <td>324.03</td>\n",
       "      <td>896.75</td>\n",
       "      <td>2437.0</td>\n",
       "      <td>568.68</td>\n",
       "      <td>203.68</td>\n",
       "      <td>3203.07</td>\n",
       "    </tr>\n",
       "  </tbody>\n",
       "</table>\n",
       "</div>"
      ],
      "text/plain": [
       "category  Athletic Shoes  Casual & Dress Shoes  Eyewear  \\\n",
       "gender                                                    \n",
       "Unisex             66.00                   NaN  3511.10   \n",
       "men              4349.10               2189.10  3256.43   \n",
       "women            1504.71                324.03   896.75   \n",
       "\n",
       "category  Perfumes & Fragrances  Sportswear  Wallets  Watches  \n",
       "gender                                                         \n",
       "Unisex                    409.0         NaN    45.00   436.68  \n",
       "men                      1803.0     1151.71  1404.68  7366.28  \n",
       "women                    2437.0      568.68   203.68  3203.07  "
      ]
     },
     "execution_count": 93,
     "metadata": {},
     "output_type": "execute_result"
    }
   ],
   "source": [
    "pd.crosstab(index=data[\"gender\"], columns=data[\"category\"], values=data[\"perc_of_unit_sold\"], aggfunc=\"sum\").round(2)"
   ]
  },
  {
   "cell_type": "markdown",
   "metadata": {},
   "source": [
    "- Kategori Watches memiliki presentase tertinggi di semua jenis gender"
   ]
  },
  {
   "cell_type": "code",
   "execution_count": 99,
   "metadata": {},
   "outputs": [
    {
     "data": {
      "text/html": [
       "<div>\n",
       "<style scoped>\n",
       "    .dataframe tbody tr th:only-of-type {\n",
       "        vertical-align: middle;\n",
       "    }\n",
       "\n",
       "    .dataframe tbody tr th {\n",
       "        vertical-align: top;\n",
       "    }\n",
       "\n",
       "    .dataframe thead th {\n",
       "        text-align: right;\n",
       "    }\n",
       "</style>\n",
       "<table border=\"1\" class=\"dataframe\">\n",
       "  <thead>\n",
       "    <tr style=\"text-align: right;\">\n",
       "      <th>col_0</th>\n",
       "      <th>product</th>\n",
       "    </tr>\n",
       "    <tr>\n",
       "      <th>category</th>\n",
       "      <th></th>\n",
       "    </tr>\n",
       "  </thead>\n",
       "  <tbody>\n",
       "    <tr>\n",
       "      <th>Watches</th>\n",
       "      <td>180</td>\n",
       "    </tr>\n",
       "    <tr>\n",
       "      <th>Eyewear</th>\n",
       "      <td>154</td>\n",
       "    </tr>\n",
       "    <tr>\n",
       "      <th>Athletic Shoes</th>\n",
       "      <td>95</td>\n",
       "    </tr>\n",
       "    <tr>\n",
       "      <th>Perfumes &amp; Fragrances</th>\n",
       "      <td>63</td>\n",
       "    </tr>\n",
       "    <tr>\n",
       "      <th>Casual &amp; Dress Shoes</th>\n",
       "      <td>47</td>\n",
       "    </tr>\n",
       "    <tr>\n",
       "      <th>Wallets</th>\n",
       "      <td>37</td>\n",
       "    </tr>\n",
       "    <tr>\n",
       "      <th>Sportswear</th>\n",
       "      <td>33</td>\n",
       "    </tr>\n",
       "  </tbody>\n",
       "</table>\n",
       "</div>"
      ],
      "text/plain": [
       "col_0                  product\n",
       "category                      \n",
       "Watches                    180\n",
       "Eyewear                    154\n",
       "Athletic Shoes              95\n",
       "Perfumes & Fragrances       63\n",
       "Casual & Dress Shoes        47\n",
       "Wallets                     37\n",
       "Sportswear                  33"
      ]
     },
     "execution_count": 99,
     "metadata": {},
     "output_type": "execute_result"
    }
   ],
   "source": [
    "pd.crosstab(index=data[\"category\"], columns=\"product\", values=data[\"perc_of_unit_sold\"], aggfunc=\"count\").sort_values(\"product\", ascending = False)"
   ]
  },
  {
   "cell_type": "markdown",
   "metadata": {},
   "source": [
    "- Watches memiliki lebih banyak varian produk"
   ]
  },
  {
   "cell_type": "markdown",
   "metadata": {},
   "source": [
    "### Pengiriman"
   ]
  },
  {
   "cell_type": "code",
   "execution_count": 86,
   "metadata": {},
   "outputs": [
    {
     "data": {
      "text/html": [
       "<div>\n",
       "<style scoped>\n",
       "    .dataframe tbody tr th:only-of-type {\n",
       "        vertical-align: middle;\n",
       "    }\n",
       "\n",
       "    .dataframe tbody tr th {\n",
       "        vertical-align: top;\n",
       "    }\n",
       "\n",
       "    .dataframe thead th {\n",
       "        text-align: right;\n",
       "    }\n",
       "</style>\n",
       "<table border=\"1\" class=\"dataframe\">\n",
       "  <thead>\n",
       "    <tr style=\"text-align: right;\">\n",
       "      <th>col_0</th>\n",
       "      <th>Jumlah</th>\n",
       "    </tr>\n",
       "    <tr>\n",
       "      <th>shpping_rate</th>\n",
       "      <th></th>\n",
       "    </tr>\n",
       "  </thead>\n",
       "  <tbody>\n",
       "    <tr>\n",
       "      <th>Eligible for FREE Shipping</th>\n",
       "      <td>211</td>\n",
       "    </tr>\n",
       "    <tr>\n",
       "      <th>FREE Shipping</th>\n",
       "      <td>398</td>\n",
       "    </tr>\n",
       "  </tbody>\n",
       "</table>\n",
       "</div>"
      ],
      "text/plain": [
       "col_0                       Jumlah\n",
       "shpping_rate                      \n",
       "Eligible for FREE Shipping     211\n",
       "FREE Shipping                  398"
      ]
     },
     "execution_count": 86,
     "metadata": {},
     "output_type": "execute_result"
    }
   ],
   "source": [
    "pd.crosstab(data[\"shpping_rate\"], columns = \"Jumlah\", values = (\"perc_of_unit_sold\"), aggfunc = \"count\")"
   ]
  },
  {
   "cell_type": "code",
   "execution_count": 61,
   "metadata": {},
   "outputs": [
    {
     "data": {
      "image/png": "[encoded data removed]",
      "text/plain": [
       "<Figure size 432x288 with 1 Axes>"
      ]
     },
     "metadata": {},
     "output_type": "display_data"
    }
   ],
   "source": [
    "jenis = \"FREE Shipping\", \"Eligible for FREE Shipping\"\n",
    "sizes = [398, 211]\n",
    "explodes = (0, 0.1)\n",
    "\n",
    "plt.pie(sizes, labels = jenis, explode = explodes,\n",
    "       autopct = \"%1.1f%%\",\n",
    "       shadow = True,\n",
    "       startangle = 140,\n",
    "       colors = [\"orange\", \"yellow\"])\n",
    "plt.show()"
   ]
  },
  {
   "cell_type": "markdown",
   "metadata": {},
   "source": [
    "- Jika dilihat dari data, penjualan dengan kategori \"FREE Shipping\" lebih tinggi dengan 65.4% dibandingkan dengan \"Eligible for FREE Shipping\" yang hanya 34.6%"
   ]
  },
  {
   "cell_type": "code",
   "execution_count": 92,
   "metadata": {},
   "outputs": [
    {
     "data": {
      "text/html": [
       "<div>\n",
       "<style scoped>\n",
       "    .dataframe tbody tr th:only-of-type {\n",
       "        vertical-align: middle;\n",
       "    }\n",
       "\n",
       "    .dataframe tbody tr th {\n",
       "        vertical-align: top;\n",
       "    }\n",
       "\n",
       "    .dataframe thead th {\n",
       "        text-align: right;\n",
       "    }\n",
       "</style>\n",
       "<table border=\"1\" class=\"dataframe\">\n",
       "  <thead>\n",
       "    <tr style=\"text-align: right;\">\n",
       "      <th></th>\n",
       "      <th>Original_price</th>\n",
       "      <th>price</th>\n",
       "      <th>perc_of_unit_sold</th>\n",
       "      <th>rating</th>\n",
       "      <th>diskon</th>\n",
       "    </tr>\n",
       "    <tr>\n",
       "      <th>category</th>\n",
       "      <th></th>\n",
       "      <th></th>\n",
       "      <th></th>\n",
       "      <th></th>\n",
       "      <th></th>\n",
       "    </tr>\n",
       "  </thead>\n",
       "  <tbody>\n",
       "    <tr>\n",
       "      <th>Watches</th>\n",
       "      <td>301205.1</td>\n",
       "      <td>97441.87</td>\n",
       "      <td>11006.022989</td>\n",
       "      <td>15728.0</td>\n",
       "      <td>9096.0</td>\n",
       "    </tr>\n",
       "    <tr>\n",
       "      <th>Eyewear</th>\n",
       "      <td>122891.3</td>\n",
       "      <td>57133.08</td>\n",
       "      <td>7664.275862</td>\n",
       "      <td>13270.0</td>\n",
       "      <td>8063.0</td>\n",
       "    </tr>\n",
       "    <tr>\n",
       "      <th>Athletic Shoes</th>\n",
       "      <td>37071.0</td>\n",
       "      <td>24320.47</td>\n",
       "      <td>5919.816092</td>\n",
       "      <td>8660.0</td>\n",
       "      <td>3143.0</td>\n",
       "    </tr>\n",
       "    <tr>\n",
       "      <th>Perfumes &amp; Fragrances</th>\n",
       "      <td>17292.0</td>\n",
       "      <td>5783.93</td>\n",
       "      <td>4649.000000</td>\n",
       "      <td>5386.0</td>\n",
       "      <td>4020.0</td>\n",
       "    </tr>\n",
       "    <tr>\n",
       "      <th>Casual &amp; Dress Shoes</th>\n",
       "      <td>21210.0</td>\n",
       "      <td>13130.82</td>\n",
       "      <td>2513.137931</td>\n",
       "      <td>4194.0</td>\n",
       "      <td>1787.0</td>\n",
       "    </tr>\n",
       "    <tr>\n",
       "      <th>Sportswear</th>\n",
       "      <td>6417.0</td>\n",
       "      <td>3286.47</td>\n",
       "      <td>1720.390805</td>\n",
       "      <td>2936.0</td>\n",
       "      <td>1516.0</td>\n",
       "    </tr>\n",
       "    <tr>\n",
       "      <th>Wallets</th>\n",
       "      <td>10890.0</td>\n",
       "      <td>5618.69</td>\n",
       "      <td>1653.356322</td>\n",
       "      <td>3336.0</td>\n",
       "      <td>1856.0</td>\n",
       "    </tr>\n",
       "  </tbody>\n",
       "</table>\n",
       "</div>"
      ],
      "text/plain": [
       "                       Original_price     price  perc_of_unit_sold   rating  \\\n",
       "category                                                                      \n",
       "Watches                      301205.1  97441.87       11006.022989  15728.0   \n",
       "Eyewear                      122891.3  57133.08        7664.275862  13270.0   \n",
       "Athletic Shoes                37071.0  24320.47        5919.816092   8660.0   \n",
       "Perfumes & Fragrances         17292.0   5783.93        4649.000000   5386.0   \n",
       "Casual & Dress Shoes          21210.0  13130.82        2513.137931   4194.0   \n",
       "Sportswear                     6417.0   3286.47        1720.390805   2936.0   \n",
       "Wallets                       10890.0   5618.69        1653.356322   3336.0   \n",
       "\n",
       "                       diskon  \n",
       "category                       \n",
       "Watches                9096.0  \n",
       "Eyewear                8063.0  \n",
       "Athletic Shoes         3143.0  \n",
       "Perfumes & Fragrances  4020.0  \n",
       "Casual & Dress Shoes   1787.0  \n",
       "Sportswear             1516.0  \n",
       "Wallets                1856.0  "
      ]
     },
     "execution_count": 92,
     "metadata": {},
     "output_type": "execute_result"
    }
   ],
   "source": [
    "data.groupby(\"category\").sum().sort_values(\"perc_of_unit_sold\",ascending = False)"
   ]
  },
  {
   "cell_type": "markdown",
   "metadata": {},
   "source": [
    "- **Watches juga menjadi kategori teratas dalam presentase penjualan, rating dan juga pemberi diskon tertinggi**"
   ]
  },
  {
   "cell_type": "markdown",
   "metadata": {},
   "source": [
    "# INSIGHT"
   ]
  },
  {
   "cell_type": "markdown",
   "metadata": {},
   "source": [
    "- **Strategi potong harga efektif dalam meningkatkan presentase penjualan dan mendapatkan feedback yang positif**\n",
    "- **Variasi product mempengaruhi tingkat penjualan:**\n",
    "    1. **Terbukti Penjualan dengan presentase teratas memiliki banyak variasi produk**\n",
    "    2. **Watches: 180 dan Eyewear: 154 variasi**\n",
    "- **Pengiriman dengan \"FREE Shipping\" lebih mendominasi jumlah transaksi**"
   ]
  },
  {
   "cell_type": "markdown",
   "metadata": {},
   "source": [
    "# Rekomendasi"
   ]
  },
  {
   "cell_type": "markdown",
   "metadata": {},
   "source": [
    "- **Melakukan promosi untuk category dengan penjualan terendah, yaitu sportswear dan wallet**\n",
    "- **Menambah jumlah variasi product di category dengan penjualan terendah, karena tingkat variasi product mempengaruhi penjualan**"
   ]
  }
 ],
 "metadata": {
  "kernelspec": {
   "display_name": "Python 3",
   "language": "python",
   "name": "python3"
  },
  "language_info": {
   "codemirror_mode": {
    "name": "ipython",
    "version": 3
   },
   "file_extension": ".py",
   "mimetype": "text/x-python",
   "name": "python",
   "nbconvert_exporter": "python",
   "pygments_lexer": "ipython3",
   "version": "3.8.3"
  }
 },
 "nbformat": 4,
 "nbformat_minor": 4
}
